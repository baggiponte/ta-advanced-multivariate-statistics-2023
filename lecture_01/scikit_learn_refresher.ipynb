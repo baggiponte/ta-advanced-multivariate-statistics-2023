{
 "cells": [
  {
   "cell_type": "markdown",
   "metadata": {
    "id": "8eH7O2udwPFs"
   },
   "source": [
    "# Advanced Multivariate Statistics\n",
    "# Lecture 1 - `scikit-learn` Refresher\n",
    "\n",
    "Let's explore the typical modelling workflow of a supervised classification problem. We shall look at the \"census\" data, the details of which can be seen [here](https://www.openml.org/search?type=data&sort=runs&id=1590&status=active). The data is about around 50 thousands US citizens, extracted from the 1994 Census database. The prediction task is to determine whether a person makes over 50K a year. In particular, we will be re-fitting the same models to the same data, each time adding one piece to incrementally build a more comprehensive modelling workflow. We shall:\n",
    "\n",
    "1. Look at different strategies to deal with categorical data.\n",
    "2. Compare the performance of different models.\n",
    "3. See cross-validation and grid search to find optimal parameters."
   ]
  },
  {
   "cell_type": "code",
   "execution_count": null,
   "metadata": {
    "executionInfo": {
     "elapsed": 684,
     "status": "ok",
     "timestamp": 1668441253047,
     "user": {
      "displayName": "Luca Baggi",
      "userId": "05336695453102948854"
     },
     "user_tz": -60
    },
    "id": "isK3oYAyE7uB"
   },
   "outputs": [],
   "source": [
    "from sklearn import set_config\n",
    "set_config(display='diagram')"
   ]
  },
  {
   "cell_type": "markdown",
   "metadata": {
    "id": "YzKrKR3vE9Er"
   },
   "source": [
    "We run the cell above to make sure our scikit-learn models and pipelines can be displayed as nice HTML diagrams."
   ]
  },
  {
   "cell_type": "markdown",
   "metadata": {
    "id": "UQz8lHazyeT2"
   },
   "source": [
    "## Data Exploration\n",
    "\n",
    "Toy datasets from OpenML can be obtained without download using the `fetch_openml` function and their unique identifier function from `scikit-learn`:"
   ]
  },
  {
   "cell_type": "code",
   "execution_count": null,
   "metadata": {
    "colab": {
     "base_uri": "https://localhost:8080/",
     "height": 392
    },
    "executionInfo": {
     "elapsed": 9615,
     "status": "ok",
     "timestamp": 1668441284337,
     "user": {
      "displayName": "Luca Baggi",
      "userId": "05336695453102948854"
     },
     "user_tz": -60
    },
    "id": "OdNDK4gntXDB",
    "outputId": "35591d4c-7189-4699-bb04-69c83b4210c2"
   },
   "outputs": [],
   "source": [
    "from sklearn.datasets import fetch_openml\n",
    "\n",
    "census = fetch_openml(data_id=1590).frame\n",
    "\n",
    "census.head()"
   ]
  },
  {
   "cell_type": "markdown",
   "metadata": {
    "id": "1ysILXLYyJTA"
   },
   "source": [
    "The columns are self explanatory, except `fnlwgt`, which stands for `final_weight`, a proxy for the demographic background of the people: \"People with similar demographic characteristics should have similar weights\".\n",
    "\n",
    "Let's explore the dataset:"
   ]
  },
  {
   "cell_type": "code",
   "execution_count": null,
   "metadata": {
    "colab": {
     "base_uri": "https://localhost:8080/",
     "height": 300
    },
    "executionInfo": {
     "elapsed": 459,
     "status": "ok",
     "timestamp": 1668376883000,
     "user": {
      "displayName": "Luca Baggi",
      "userId": "05336695453102948854"
     },
     "user_tz": -60
    },
    "id": "oAy_7GmgyU9O",
    "outputId": "a44ab282-d4ef-4181-c022-9d2a9db8cf6b"
   },
   "outputs": [],
   "source": [
    "census.describe()"
   ]
  },
  {
   "cell_type": "code",
   "execution_count": null,
   "metadata": {
    "colab": {
     "base_uri": "https://localhost:8080/"
    },
    "executionInfo": {
     "elapsed": 10,
     "status": "ok",
     "timestamp": 1668376883000,
     "user": {
      "displayName": "Luca Baggi",
      "userId": "05336695453102948854"
     },
     "user_tz": -60
    },
    "id": "GjevVQtlylzn",
    "outputId": "ac0ba368-4e4c-408f-a36b-fb7d003cd47b"
   },
   "outputs": [],
   "source": [
    "census.info()"
   ]
  },
  {
   "cell_type": "markdown",
   "metadata": {
    "id": "sKHy5n4Oyp8-"
   },
   "source": [
    "The null count is pretty low and the qualitative columns are already encoded as `category` (a dedicated and more efficient pandas datatype for qualitative data). It seems that the data might not need a lot of processing: this rarely holds in real world settings, where data manipulation does take more time.\n",
    "\n",
    "One note: given the great number of categorical features, we could plot as many pairplots to spot patterns. We might want to be more selective or to use different approaches when - say - we have a very large number of features. In this case, we also happen to have nearly 50k datapoints for each variable: plotting can take a considerable amount of time, and thus we might want to let our domain knowledge/expertise/intuition guide us.\n",
    "\n",
    "In these cases, we might want to use a `heatmap` to display the `corrplot`, i.e. a grid plotting the correlation across variables:"
   ]
  },
  {
   "cell_type": "code",
   "execution_count": null,
   "metadata": {
    "colab": {
     "base_uri": "https://localhost:8080/",
     "height": 537
    },
    "executionInfo": {
     "elapsed": 389,
     "status": "ok",
     "timestamp": 1668376883384,
     "user": {
      "displayName": "Luca Baggi",
      "userId": "05336695453102948854"
     },
     "user_tz": -60
    },
    "id": "Qd7ofNCq9Bu3",
    "outputId": "f630520c-d14f-460b-f94c-47a85a3ee138"
   },
   "outputs": [],
   "source": [
    "import numpy as np\n",
    "import matplotlib.pyplot as plt\n",
    "import seaborn as sns\n",
    "\n",
    "# Compute the correlation matrix\n",
    "corr = census.corr()\n",
    "\n",
    "# Generate a mask for the upper triangle\n",
    "mask = np.triu(np.ones_like(corr, dtype=bool))\n",
    "\n",
    "# Set up the matplotlib figure\n",
    "f, ax = plt.subplots(figsize=(11, 9))\n",
    "\n",
    "# Generate a custom diverging colormap\n",
    "cmap = sns.diverging_palette(230, 20, as_cmap=True)\n",
    "\n",
    "# Draw the heatmap with the mask and correct aspect ratio\n",
    "corrplot = sns.heatmap(\n",
    "    corr,\n",
    "    mask=mask,\n",
    "    cmap=cmap,\n",
    "    vmax=.3,\n",
    "    center=0,\n",
    "    square=True,\n",
    "    linewidths=.5,\n",
    "    cbar_kws={\"shrink\": .5}\n",
    "    )"
   ]
  },
  {
   "cell_type": "markdown",
   "metadata": {
    "id": "09ENKTX084fh"
   },
   "source": [
    "From this we can see that education is a feature that will be correlated with many variables. However, it is evident that high-level functions can only take us so far: we need to handle the categorical features and to explore the data.\n",
    "\n",
    "One such way is to use the `pd.get_dummies` function, that \"explodes\" each categorical feature in a binary column - this is easier to see than to explain."
   ]
  },
  {
   "cell_type": "code",
   "execution_count": null,
   "metadata": {
    "colab": {
     "base_uri": "https://localhost:8080/",
     "height": 334
    },
    "executionInfo": {
     "elapsed": 10,
     "status": "ok",
     "timestamp": 1668376883385,
     "user": {
      "displayName": "Luca Baggi",
      "userId": "05336695453102948854"
     },
     "user_tz": -60
    },
    "id": "XtzUChwU_2Ln",
    "outputId": "3a3592c0-2f93-42ab-ca60-bf7dc3913a7c"
   },
   "outputs": [],
   "source": [
    "import pandas as pd\n",
    "\n",
    "pd.get_dummies(census).head()"
   ]
  },
  {
   "cell_type": "markdown",
   "metadata": {
    "id": "CGbMgqmc_8t1"
   },
   "source": [
    "This, however, explodes the dataset: here we have 107 columns, which are overkill. The reason is that the function explodes every column by default, thus increasing the costs of running our algorithms.\n",
    "\n",
    "This naive binarization strategy, also known as `OneHotEncoding`, is indeed a *dummy* or naive strategy, because there are other alternatives. We shall explore some of them."
   ]
  },
  {
   "cell_type": "markdown",
   "metadata": {
    "id": "OaT-_hC6_n2e"
   },
   "source": [
    "## Before Any Modelling Happens: Train/Test Splitting\n",
    "\n",
    "First, let's set aside the target variable (the `y`) and the covariates (or features, the `X`):\n"
   ]
  },
  {
   "cell_type": "code",
   "execution_count": null,
   "metadata": {
    "executionInfo": {
     "elapsed": 361,
     "status": "ok",
     "timestamp": 1668442508719,
     "user": {
      "displayName": "Luca Baggi",
      "userId": "05336695453102948854"
     },
     "user_tz": -60
    },
    "id": "qlxDlLMGDXb6"
   },
   "outputs": [],
   "source": [
    "target_name = \"class\"\n",
    "\n",
    "target = census[target_name]\n",
    "data = census.drop(columns = target_name)"
   ]
  },
  {
   "cell_type": "markdown",
   "metadata": {
    "id": "K8NGMQQmDX-n"
   },
   "source": [
    "At the same time, we **must set aside a portion of the data that shall be used to evaluate our data on. This part of the data will be known as test set**. What we do is basically set aside a piece of the dataset and make sure we do not manipulate it until we are actually testing the performance of the model on unseen data.\n",
    "\n",
    "This kind of separation/isolation is necessary: suppose we normalise the data before splitting train and test set. This would mean that some information of the test set would be used to compute the mean and standard deviation of the data, thus resulting in a *contanimation* of our data (also known as [*data leakage*](https://scikit-learn.org/stable/common_pitfalls.html#data-leakage)).\n",
    "\n",
    "We could manually split the data using indexing; however, scikit-learn already offers very useful functions to avoid code duplication:"
   ]
  },
  {
   "cell_type": "code",
   "execution_count": null,
   "metadata": {
    "executionInfo": {
     "elapsed": 1,
     "status": "ok",
     "timestamp": 1668442510945,
     "user": {
      "displayName": "Luca Baggi",
      "userId": "05336695453102948854"
     },
     "user_tz": -60
    },
    "id": "JTBfjBLkC77r"
   },
   "outputs": [],
   "source": [
    "from sklearn.model_selection import train_test_split\n",
    "\n",
    "data_train, data_test, target_train, target_test = train_test_split(\n",
    "    data, target, random_state=42, test_size=0.25\n",
    ")"
   ]
  },
  {
   "cell_type": "markdown",
   "metadata": {
    "id": "rQgU3c8-_n0L"
   },
   "source": [
    "## First Step: Establishing a Baseline\n",
    "\n",
    "Fitting a model is easy:\n",
    "\n",
    "    from sklearn.linear_model import LogisticRegression\n",
    "\n",
    "    log_reg = LogisticRegression()\n",
    "\n",
    "    _ = log_reg.fit(data_train, target_train)\n",
    "\n",
    "However, fitting the model would fail. Why? Because - as we said above - we have not dealt with categorical columns.\n",
    "\n",
    "For this reason, we should write a more complex pipeline to deal with this. We have already seen in the previous notebook on unsupervised learning how to write one:\n",
    "\n",
    "1. Create a `selector` to extract categorical and quantitative columns and use it to extract the column names.\n",
    "2. Create a `preprocessor`:\n",
    "    1. A standard scaler for the quantitative data: this is mandatory for distance-based algorithms such as the `KNeighboursRegressor`, but can also make other algorithms converge faster. This is the case for the `LogisticRegression`!\n",
    "    2. A `OneHotEncoder` (that produces binary/dummy variables) for categorical data.\n",
    "3. Create the `ColumnTransformer` that will apply the transformations to the data\n",
    "4. Put the `ColumnTransformer` into a `Pipeline` with the model we want to use\n",
    "\n",
    "Let's start with the preprocessors:"
   ]
  },
  {
   "cell_type": "code",
   "execution_count": null,
   "metadata": {
    "executionInfo": {
     "elapsed": 698,
     "status": "ok",
     "timestamp": 1668442516057,
     "user": {
      "displayName": "Luca Baggi",
      "userId": "05336695453102948854"
     },
     "user_tz": -60
    },
    "id": "hZbqerAGGBzv"
   },
   "outputs": [],
   "source": [
    "from sklearn.compose import make_column_selector as selector\n",
    "from sklearn.preprocessing import OneHotEncoder, StandardScaler\n",
    "\n",
    "numerical_columns_selector = selector(dtype_exclude=\"category\")\n",
    "categorical_columns_selector = selector(dtype_include=\"category\")\n",
    "\n",
    "numerical_columns = numerical_columns_selector(data)\n",
    "categorical_columns = categorical_columns_selector(data)\n",
    "\n",
    "categorical_preprocessor = OneHotEncoder(handle_unknown=\"ignore\", sparse=False)\n",
    "numerical_preprocessor = StandardScaler()"
   ]
  },
  {
   "cell_type": "code",
   "execution_count": null,
   "metadata": {
    "colab": {
     "base_uri": "https://localhost:8080/",
     "height": 468
    },
    "executionInfo": {
     "elapsed": 297,
     "status": "ok",
     "timestamp": 1668442574726,
     "user": {
      "displayName": "Luca Baggi",
      "userId": "05336695453102948854"
     },
     "user_tz": -60
    },
    "id": "CGYtIfCJ7HUz",
    "outputId": "fd787b57-8d7f-4660-bd57-836667e04d68"
   },
   "outputs": [],
   "source": [
    "census[categorical_columns]"
   ]
  },
  {
   "cell_type": "markdown",
   "metadata": {
    "id": "4Sz6aMRtMsUR"
   },
   "source": [
    "Then we instantiate the Transformer and the Pipeline."
   ]
  },
  {
   "cell_type": "code",
   "execution_count": null,
   "metadata": {
    "colab": {
     "base_uri": "https://localhost:8080/",
     "height": 192
    },
    "executionInfo": {
     "elapsed": 268,
     "status": "ok",
     "timestamp": 1668442582910,
     "user": {
      "displayName": "Luca Baggi",
      "userId": "05336695453102948854"
     },
     "user_tz": -60
    },
    "id": "eCTiGbkMHMCo",
    "outputId": "2d1405d8-0eea-4bc2-8f36-2cf233dd2190"
   },
   "outputs": [],
   "source": [
    "from sklearn.compose import ColumnTransformer\n",
    "from sklearn.pipeline import Pipeline\n",
    "from sklearn.linear_model import LogisticRegression\n",
    "\n",
    "column_preprocessor = ColumnTransformer(\n",
    "    transformers = [\n",
    "        (\"categories\", categorical_preprocessor, categorical_columns),\n",
    "        (\"numerical\", numerical_preprocessor, numerical_columns)\n",
    "    ]\n",
    ")\n",
    "\n",
    "logreg_model = LogisticRegression(max_iter=500)\n",
    "\n",
    "logreg_pipeline = Pipeline(\n",
    "    steps = [\n",
    "        (\"preprocessing\", column_preprocessor),\n",
    "        (\"logistic_regression\", logreg_model)\n",
    "    ]\n",
    ")\n",
    "\n",
    "logreg_pipeline"
   ]
  },
  {
   "cell_type": "markdown",
   "metadata": {
    "id": "qh4i5E2x_nxg"
   },
   "source": [
    "Take a moment to notice how helpful it can be to inspect the pipeline steps with the diargram. The next time we want to create a different model, we can reuse the `ColumnTransformer` or any of the preprocessors: the investment we made in writing this code will pay soon off!\n",
    "\n",
    "Now we can fit the pipeline:"
   ]
  },
  {
   "cell_type": "code",
   "execution_count": null,
   "metadata": {
    "executionInfo": {
     "elapsed": 4754,
     "status": "ok",
     "timestamp": 1668442624863,
     "user": {
      "displayName": "Luca Baggi",
      "userId": "05336695453102948854"
     },
     "user_tz": -60
    },
    "id": "QujndcN0H6U9"
   },
   "outputs": [],
   "source": [
    "_ = logreg_pipeline.fit(data_train, target_train)"
   ]
  },
  {
   "cell_type": "markdown",
   "metadata": {
    "id": "AZ0Xfs-6H7I3"
   },
   "source": [
    "We can use the model to make predictions using the `.predict()` method:"
   ]
  },
  {
   "cell_type": "code",
   "execution_count": null,
   "metadata": {
    "colab": {
     "base_uri": "https://localhost:8080/"
    },
    "executionInfo": {
     "elapsed": 256,
     "status": "ok",
     "timestamp": 1668442627188,
     "user": {
      "displayName": "Luca Baggi",
      "userId": "05336695453102948854"
     },
     "user_tz": -60
    },
    "id": "bEcaOhq8JyVd",
    "outputId": "45db97ef-0da5-4a1d-a44e-905fef19fb7e"
   },
   "outputs": [],
   "source": [
    "logreg_pipeline.predict(data_test[:5])"
   ]
  },
  {
   "cell_type": "markdown",
   "metadata": {
    "id": "1-WINNHZH7GD"
   },
   "source": [
    "This returns the array of the predicted values - note these are already encoded as the classes of the `target` column! We can compare these values with the true ones:"
   ]
  },
  {
   "cell_type": "code",
   "execution_count": null,
   "metadata": {
    "colab": {
     "base_uri": "https://localhost:8080/"
    },
    "executionInfo": {
     "elapsed": 241,
     "status": "ok",
     "timestamp": 1668442666886,
     "user": {
      "displayName": "Luca Baggi",
      "userId": "05336695453102948854"
     },
     "user_tz": -60
    },
    "id": "OmCr26xKJ_F5",
    "outputId": "977c7b1c-ee3e-4b55-d8d2-13d57a9944ec"
   },
   "outputs": [],
   "source": [
    "target_test[:5].values"
   ]
  },
  {
   "cell_type": "markdown",
   "metadata": {
    "id": "8Q8nVMOGKHUX"
   },
   "source": [
    "How do we measure the error? We could implement a function, but actually there is already a method to compute the accuracy automatically!"
   ]
  },
  {
   "cell_type": "code",
   "execution_count": null,
   "metadata": {
    "colab": {
     "base_uri": "https://localhost:8080/"
    },
    "executionInfo": {
     "elapsed": 232,
     "status": "ok",
     "timestamp": 1668442711023,
     "user": {
      "displayName": "Luca Baggi",
      "userId": "05336695453102948854"
     },
     "user_tz": -60
    },
    "id": "6lLzYfJ0KPsj",
    "outputId": "7e0df6d2-e943-4624-ccd0-96f051081c80"
   },
   "outputs": [],
   "source": [
    "accuracy = logreg_pipeline.score(data_test, target_test)\n",
    "\n",
    "print(f\"Accuracy of logistic regression: {accuracy:.3f}\")"
   ]
  },
  {
   "cell_type": "markdown",
   "metadata": {
    "id": "78tXIG-QKHN2"
   },
   "source": [
    "Our baseline is 86% accurate - which seems to be a good result for a model that has no feature engineering and a rudimentary categorical encoding strategy. Not only that, but we did not tune any hyperparameter of the model!\n",
    "\n",
    "However, what we have done is slightly unorthodox and not recommended. Why? Suppose we wanted to try out mode modelling strategies, e.g. fitting more models. How do we choose the better one? Do we check for the accuracy score on the test set? Turns out, we should not."
   ]
  },
  {
   "cell_type": "markdown",
   "metadata": {
    "id": "f1fv-bNXNkl6"
   },
   "source": [
    "## Compare Different Models with Cross-Validation\n",
    "\n",
    "If we computed the accuracy of multiple models on the test set and choose the better one, we would have broken our promise not to touch the test set. The test set should only be used to verify the performance of the very best model we come up with during our experimentation!\n",
    "\n",
    "What we do is to create some \"artificial\" test sets when we fit our model, and compute our metric scores on that. This procedure is called cross validation (or CV). There are [many kinds of CV](https://scikit-learn.org/stable/modules/cross_validation.html#), but the most common with tabular data is called **KFold** cross validation.\n",
    "\n",
    "This algorithm splits the data in K chunks. Then, the model is fit on K - 1 chunks, while the last chunk is used to compute the accuracy. This procedure is done with all the permutations of the folds, i.e. until every individual chunk is used to compute the error.\n",
    "\n",
    "In the image below, we see that with `K=5` the model will be fit on the red datapoints and tested on the blue ones. The blue partition will shift four more times, and the model will be *trained and tested* five times."
   ]
  },
  {
   "cell_type": "markdown",
   "metadata": {
    "id": "c6GAu0hXOXW8"
   },
   "source": [
    "\n",
    "![image.png](data:image/png;base64,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)"
   ]
  },
  {
   "cell_type": "markdown",
   "metadata": {
    "id": "yCbHKFdsPYqg"
   },
   "source": [
    "We can call the `cross_validate` function to do this automatically:"
   ]
  },
  {
   "cell_type": "code",
   "execution_count": null,
   "metadata": {
    "colab": {
     "base_uri": "https://localhost:8080/"
    },
    "executionInfo": {
     "elapsed": 16534,
     "status": "ok",
     "timestamp": 1668443409945,
     "user": {
      "displayName": "Luca Baggi",
      "userId": "05336695453102948854"
     },
     "user_tz": -60
    },
    "id": "U5SSphamPec3",
    "outputId": "cebccc8f-6eef-436c-ecf0-21997c980e68"
   },
   "outputs": [],
   "source": [
    "from sklearn.model_selection import cross_validate\n",
    "\n",
    "cv_result_logreg = cross_validate(logreg_pipeline, data_train, target_train, cv=5)\n",
    "\n",
    "cv_result_logreg"
   ]
  },
  {
   "cell_type": "markdown",
   "metadata": {
    "id": "8hkb6SckP5D5"
   },
   "source": [
    "The `cv_result` object is a dictionary that contains the metrics of each model iteration.\n",
    "\n",
    "From a statistical standpoint, every measurement in the `test_score` array is a statistic, i.e. a realisation of the true generative process. What this means is that an individual score is just not enough and that **good performance may only be driven by chance**!\n",
    "\n",
    "Cross validation allows us to compute multiple statistics on different parts of the data, and then we can use them to obtain more reliable statistics of the performance of the model."
   ]
  },
  {
   "cell_type": "code",
   "execution_count": null,
   "metadata": {
    "executionInfo": {
     "elapsed": 4,
     "status": "ok",
     "timestamp": 1668443410405,
     "user": {
      "displayName": "Luca Baggi",
      "userId": "05336695453102948854"
     },
     "user_tz": -60
    },
    "id": "B0pTRoQPQ4c1"
   },
   "outputs": [],
   "source": [
    "def print_score(cv_result):\n",
    "    print(\n",
    "        \"The mean cross-validation accuracy is: \"\n",
    "        f\"{cv_result['test_score'].mean():.3f} ± {cv_result['test_score'].std():.3f}\"\n",
    "    )"
   ]
  },
  {
   "cell_type": "code",
   "execution_count": null,
   "metadata": {
    "colab": {
     "base_uri": "https://localhost:8080/"
    },
    "executionInfo": {
     "elapsed": 5,
     "status": "ok",
     "timestamp": 1668443410406,
     "user": {
      "displayName": "Luca Baggi",
      "userId": "05336695453102948854"
     },
     "user_tz": -60
    },
    "id": "MU6IWQKPW4lH",
    "outputId": "815f471d-23d1-4b08-8226-78314fb0fd43"
   },
   "outputs": [],
   "source": [
    "print_score(cv_result_logreg)"
   ]
  },
  {
   "cell_type": "markdown",
   "metadata": {
    "id": "LLCr0_CfNkjZ"
   },
   "source": [
    "This means we can now compare different modelling pipelines! The regression has nice properties that make it suitable to use - not only as a baseline as we did. It is easy to interpret and can be extended easily with cleaver feature engineering. However, for tabular data, gradient boosted trees are powerful methods that can also be used to establish a baseline.\n",
    "\n",
    "The nice thing with these trees is that:\n",
    "\n",
    "1. `OrdinalEncoding` is enough: this is an encoding strategy that converts every category of a variable in a sequence from 1 to n. This works best when you have features such as the days of the week, where the **ordering matters and has meaning**. In our case, converting the 51 states using ordinal encoding does not make a lot of sense: why should one state be numbered 1, 14, or 15? Remember: ordinal econding converts number into a sequence of numbers and the `is lesser/greater than` relationship matters! Luckily for us, boosted trees don't care about this sequencing. This is actually better, because we don't have to explode a column into n other ones as we do with one-hot encoding.\n",
    "2. They can learn non-linear relationships\n",
    "3. They can deal with missing datapoints"
   ]
  },
  {
   "cell_type": "code",
   "execution_count": null,
   "metadata": {
    "colab": {
     "base_uri": "https://localhost:8080/",
     "height": 192
    },
    "executionInfo": {
     "elapsed": 4,
     "status": "ok",
     "timestamp": 1668443410406,
     "user": {
      "displayName": "Luca Baggi",
      "userId": "05336695453102948854"
     },
     "user_tz": -60
    },
    "id": "821GLISsU6Ml",
    "outputId": "d26b51ae-4dc5-463f-9a1f-3f4fdfefb8e1"
   },
   "outputs": [],
   "source": [
    "from sklearn.ensemble import HistGradientBoostingClassifier\n",
    "from sklearn.preprocessing import OrdinalEncoder\n",
    "\n",
    "ordinal_enc_preprocessor = OrdinalEncoder(handle_unknown=\"use_encoded_value\",\n",
    "                                          unknown_value=-1)\n",
    "\n",
    "preprocessor = ColumnTransformer(\n",
    "    transformers = [('categorical', ordinal_enc_preprocessor, categorical_columns)],\n",
    "    # leave the other columns as-is\n",
    "    remainder=\"passthrough\"\n",
    "    )\n",
    "\n",
    "boosted_pipeline = Pipeline(\n",
    "    steps = [\n",
    "        (\"ordinal_encoder\", preprocessor),\n",
    "        (\"gbtree\", HistGradientBoostingClassifier())\n",
    "    ]\n",
    ")\n",
    "\n",
    "boosted_pipeline"
   ]
  },
  {
   "cell_type": "code",
   "execution_count": null,
   "metadata": {
    "executionInfo": {
     "elapsed": 8494,
     "status": "ok",
     "timestamp": 1668443578594,
     "user": {
      "displayName": "Luca Baggi",
      "userId": "05336695453102948854"
     },
     "user_tz": -60
    },
    "id": "WDq_AFcmWcql"
   },
   "outputs": [],
   "source": [
    "cv_result_tree = cross_validate(boosted_pipeline, data_train, target_train, cv=5)"
   ]
  },
  {
   "cell_type": "code",
   "execution_count": null,
   "metadata": {
    "colab": {
     "base_uri": "https://localhost:8080/"
    },
    "executionInfo": {
     "elapsed": 3,
     "status": "ok",
     "timestamp": 1668443578595,
     "user": {
      "displayName": "Luca Baggi",
      "userId": "05336695453102948854"
     },
     "user_tz": -60
    },
    "id": "xZwKgVoiWxN8",
    "outputId": "ba1eb7a5-9c5f-433f-fa96-a6903483f2fa"
   },
   "outputs": [],
   "source": [
    "print_score(cv_result_tree)"
   ]
  },
  {
   "cell_type": "markdown",
   "metadata": {
    "id": "nAcXLEOmNkgE"
   },
   "source": [
    "Simply by using the tree, we improved our performance by 2%. This however is just the beginning of the data scientist's work: we have established the baseline, and now we might enter a loop made up of more feature engineering and hyperparameter tuning to keep getting better."
   ]
  },
  {
   "cell_type": "markdown",
   "metadata": {
    "id": "OKVu1VT_NkYy"
   },
   "source": [
    "## Hyperparameter Tuning with GridSearch\n",
    "\n",
    "When we say that a model \"learns\", we are basically saying that it's reiterating a procedure that will yield the better parameters, i.e. the coefficients of every variable. This is not always the case: trees, for example, are called 'non-parametric' methods because they learn where to split the data in a non-linear fashion.\n",
    "\n",
    "What matters is that every model has its own \"meta\" or hyperpameters that influence how the model will find these parameters. The optimal hyperparameters (since they are \"meta\" parameters) are not learnt. We can thus use different approaces to find the better ones - all of which involve training multiple models. The most basic strategy is called `GridSearchCV` and basically iterates over a grid, or combination, of hyperparameters.\n",
    "\n",
    "Let's try it with the `HistGradientBoostingClassifier`.\n",
    "\n",
    "Since the pipeline is already available, we don't have to write much more code - just the grid of hyperparameters we want to use. This is a dictionary whose keys are made up of two parts:\n",
    "\n",
    "1. The name we gave to the model in our pipeline (in this case, `gbtree`)\n",
    "2. The name of the hyperparameter, separated by *two* underscores.\n",
    "\n",
    "This notation is what is used internally by scikit-learn to understand what parameters we are referring to. We can find all the hyperparameters on the documentaton, or by calling the `.get_params().keys()` method on the instantiated model/pipeline:"
   ]
  },
  {
   "cell_type": "code",
   "execution_count": null,
   "metadata": {
    "colab": {
     "base_uri": "https://localhost:8080/"
    },
    "executionInfo": {
     "elapsed": 10,
     "status": "ok",
     "timestamp": 1668376920919,
     "user": {
      "displayName": "Luca Baggi",
      "userId": "05336695453102948854"
     },
     "user_tz": -60
    },
    "id": "jE2S5DORdwQi",
    "outputId": "0617d9ff-70c9-4b58-f37f-e67e22e77f80"
   },
   "outputs": [],
   "source": [
    "boosted_pipeline.get_params().keys()"
   ]
  },
  {
   "cell_type": "markdown",
   "metadata": {
    "id": "MRWHiExveUe2"
   },
   "source": [
    "Suppose we want to use the following grid:"
   ]
  },
  {
   "cell_type": "code",
   "execution_count": null,
   "metadata": {
    "colab": {
     "base_uri": "https://localhost:8080/",
     "height": 193
    },
    "executionInfo": {
     "elapsed": 4,
     "status": "ok",
     "timestamp": 1668443876646,
     "user": {
      "displayName": "Luca Baggi",
      "userId": "05336695453102948854"
     },
     "user_tz": -60
    },
    "id": "9_Ddqrq6NkGi",
    "outputId": "d45c177b-5491-4d30-f1ff-1f6ee7de68de"
   },
   "outputs": [],
   "source": [
    "from sklearn.model_selection import GridSearchCV\n",
    "\n",
    "param_grid = {\n",
    "    'gbtree__learning_rate': (0.01, 0.1, 1, 10),\n",
    "    'gbtree__max_leaf_nodes': (3, 10, 30)}\n",
    "\n",
    "model_grid_search = GridSearchCV(\n",
    "    boosted_pipeline, param_grid=param_grid, n_jobs=-1, cv=5 # inner CV\n",
    ")\n",
    "\n",
    "model_grid_search"
   ]
  },
  {
   "cell_type": "code",
   "execution_count": null,
   "metadata": {
    "executionInfo": {
     "elapsed": 39022,
     "status": "ok",
     "timestamp": 1668443918020,
     "user": {
      "displayName": "Luca Baggi",
      "userId": "05336695453102948854"
     },
     "user_tz": -60
    },
    "id": "eLvD0sQVKGpX"
   },
   "outputs": [],
   "source": [
    "_ = model_grid_search.fit(data_train, target_train)"
   ]
  },
  {
   "cell_type": "markdown",
   "metadata": {
    "id": "lPh3dXnLgeVK"
   },
   "source": [
    "What's happening internally is that the model is running a combination of all the possible hyperparams ($4 \\times 3$) on a 5-fold cross validation: this means 60 models are fit! This kind of hyperparameter optimisation can become too expensive to soon.\n",
    "\n",
    "We can access the results of the grid search like this:"
   ]
  },
  {
   "cell_type": "code",
   "execution_count": null,
   "metadata": {
    "colab": {
     "base_uri": "https://localhost:8080/",
     "height": 206
    },
    "executionInfo": {
     "elapsed": 241,
     "status": "ok",
     "timestamp": 1668443935295,
     "user": {
      "displayName": "Luca Baggi",
      "userId": "05336695453102948854"
     },
     "user_tz": -60
    },
    "id": "I-S_KhaqKGQ3",
    "outputId": "80ea3973-5273-48d9-bb7c-1c14c8223d58"
   },
   "outputs": [],
   "source": [
    "import pandas as pd\n",
    "grid_search_cv_results = (\n",
    "    pd.DataFrame(model_grid_search.cv_results_)\n",
    "    .sort_values(\"rank_test_score\")\n",
    "    .filter([\"params\", \"mean_test_score\", \"std_test_score\", \"rank_test_score\"])\n",
    ")\n",
    "\n",
    "grid_search_cv_results.head()"
   ]
  },
  {
   "cell_type": "markdown",
   "metadata": {
    "id": "fjH34fP2H7Cz"
   },
   "source": [
    "This best model has 87.1% accuracy with a 0.3% standard error - not a big improvement!\n",
    "\n",
    "We can also get directly the best parameters:"
   ]
  },
  {
   "cell_type": "code",
   "execution_count": null,
   "metadata": {
    "colab": {
     "base_uri": "https://localhost:8080/"
    },
    "executionInfo": {
     "elapsed": 16,
     "status": "ok",
     "timestamp": 1668376950670,
     "user": {
      "displayName": "Luca Baggi",
      "userId": "05336695453102948854"
     },
     "user_tz": -60
    },
    "id": "t8w3l-1EhQBQ",
    "outputId": "dde2e776-b328-47c3-8a3e-0041806ca6b1"
   },
   "outputs": [],
   "source": [
    "model_grid_search.best_params_"
   ]
  },
  {
   "cell_type": "markdown",
   "metadata": {
    "id": "67QSDzTYH7AF"
   },
   "source": [
    "What's nice about sklearn is that **if we were to call `.fit(X, y)` again on this model, the best model would be used!**\n",
    "\n",
    "In other words, we could test the performance of the final model on the test set. However, we know this would be incorrect: before doing so, we need to cross-validate our estimator to obtain a more robust error measurement.\n",
    "\n",
    "This combination of cross validation and grid search is called *nested cross validation* is quite demanding computationally speaking.\n",
    "\n",
    "Suppose we performed GridSearch and then tested the scores simply on the test set. Then, a diagram of our operations would look like this:"
   ]
  },
  {
   "cell_type": "markdown",
   "metadata": {
    "id": "5fpS8qr2H69K"
   },
   "source": [
    "![image.png](data:image/png;base64,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)"
   ]
  },
  {
   "cell_type": "markdown",
   "metadata": {
    "id": "v64aka_GjyLX"
   },
   "source": [
    "We could obtain this simply by calling in a new cell:\n",
    "\n",
    "    accuracy = model_grid_search.score(data_test, target_test)\n",
    "    print(f\"Accuracy on test set: {accuracy:.3f}\")\n",
    "\n",
    "Suppose we call instead `cross_validate` on the grid search: the execution plan would looke like this instead:"
   ]
  },
  {
   "cell_type": "markdown",
   "metadata": {
    "id": "3yAzDZScjx9U"
   },
   "source": [
    "![image.png](data:image/png;base64,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)"
   ]
  },
  {
   "cell_type": "markdown",
   "metadata": {
    "id": "Zi31VDbwkk7w"
   },
   "source": [
    "Here, the better model is trained on every red/green chunk and the score is computed once for each blue chunk. In our case, this would result in fitting $4 \\times 3 \\times 5 = 60$ models to find the better model, which would then be used to compute the score on the blue chunk... and this will happen four more times, for a total of **305 models being fitted**. Things can get out of hand pretty quickly!"
   ]
  },
  {
   "cell_type": "code",
   "execution_count": null,
   "metadata": {
    "executionInfo": {
     "elapsed": 159311,
     "status": "ok",
     "timestamp": 1668444457172,
     "user": {
      "displayName": "Luca Baggi",
      "userId": "05336695453102948854"
     },
     "user_tz": -60
    },
    "id": "Eh1KVynijxRC"
   },
   "outputs": [],
   "source": [
    "cv_results_gridsearch = cross_validate(\n",
    "    model_grid_search, data, target, cv=5, n_jobs=-1, return_estimator=True\n",
    ")"
   ]
  },
  {
   "cell_type": "code",
   "execution_count": null,
   "metadata": {
    "colab": {
     "base_uri": "https://localhost:8080/"
    },
    "executionInfo": {
     "elapsed": 27,
     "status": "ok",
     "timestamp": 1668444457172,
     "user": {
      "displayName": "Luca Baggi",
      "userId": "05336695453102948854"
     },
     "user_tz": -60
    },
    "id": "av-0UQr9lQo3",
    "outputId": "ae3682e1-27c1-4de4-bfb8-bd6fd6c446d5"
   },
   "outputs": [],
   "source": [
    "cv_results_grid_df = pd.DataFrame(cv_results_gridsearch)\n",
    "cv_test_scores = cv_results_grid_df['test_score']\n",
    "print(\n",
    "    \"Generalization score with hyperparameters tuning:\\n\"\n",
    "    f\"{cv_test_scores.mean():.3f} ± {cv_test_scores.std():.3f}\"\n",
    ")"
   ]
  },
  {
   "cell_type": "markdown",
   "metadata": {
    "id": "K45KqGXJ_nuk"
   },
   "source": [
    "All of this and the generalisation error cannot be statistically distinguished from the \"no-tuning\" scenario: remember, the performance was 87.0 +/- 0.3, so there is a lot of overlapping. What could we do further to improve our model? We can employ more sophisticated hyperparameter tuning procedures, which could also scale better with the number of hyperparam combinations we want to use. But perhaps working on feature engineering might be a less complicated alternative: remember, training these expensive models can cost you money!"
   ]
  },
  {
   "cell_type": "markdown",
   "metadata": {
    "id": "qypurGjyKvox"
   },
   "source": [
    "## References\n",
    "\n",
    "https://inria.github.io/scikit-learn-mooc/index.html"
   ]
  }
 ],
 "metadata": {
  "colab": {
   "collapsed_sections": [],
   "provenance": []
  },
  "kernelspec": {
   "display_name": "Python 3",
   "name": "python3"
  },
  "language_info": {
   "name": "python"
  }
 },
 "nbformat": 4,
 "nbformat_minor": 0
}
